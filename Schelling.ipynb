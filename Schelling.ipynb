{
 "cells": [
  {
   "cell_type": "markdown",
   "metadata": {},
   "source": [
    "# Ising - Schelling\n",
    "\n",
    "\n",
    "En el modelo de Ising, tal como se presenta en el libro de Werner Krauth, se utiliza la distribución de Boltzmann para el observable macroscópico $E$, la temperatura y el $C_v$ que va a depender de la temperatura y los valores esperados de $E$ y $E^2$. Además, se mide la magnetización global $M = \\sum_k \\sigma_k$. El resumen de aquello es:\n",
    "\n",
    "E = -J \\sum_{<k, l>} \\sigma_k\\sigma_l\n",
    "\n",
    "$$Z = \\sum_E\\mathcal{N}(E)e^{-\\beta E}$$\n",
    "\n",
    "$$<E> = \\frac{\\sum_{\\sigma}E_{\\sigma}e^{-\\beta E_{\\sigma}}}{\\sum_{\\sigma}e^{-\\beta E_{\\sigma}}} =\n",
    "\\frac{1}{Z}\\sum_{E}E\\mathcal{N}(E)e^{-\\beta E}$$\n",
    "\n",
    "$$\n",
    "<E>^2 = \\frac{\\sum_{\\sigma}E^2_{\\sigma}e^{-\\beta E_{\\sigma}}}{\\sum_{\\sigma}e^{-\\beta E_{\\sigma}}} =\n",
    "\\frac{1}{Z}\\sum_{E}E^2\\mathcal{N}(E)e^{-\\beta E}\n",
    "$$\n",
    "\n",
    "$$\n",
    "C_v = \\frac{\\partial <E>}{\\partial T} = \\frac{\\partial \\beta}{\\partial T}\\frac{\\partial <E>}{\\partial \\beta} = -\\beta^2\\frac{\\partial <E>}{\\partial \\beta}\n",
    "$$\n",
    "\n",
    "$$\n",
    "C_v = \\beta^2\\frac{\\partial^2}{\\partial^2 \\beta}\\log Z\n",
    "$$\n",
    "\n",
    "$$\n",
    "c_v = \\frac{\\beta^2}{N}\\left(<E^2> - <E>^2\\right)\n",
    "$$\n",
    "\n",
    "\n",
    "Estas magnitudes, en principio, no existen en el modelo de Schelling. Además, en la rejilla hay espacios libres. En definitiva, por lo que yo he entendido, el modelo de Schelling consiste en el siguiente algoritmo (Gauvin 2009).\n",
    "\n",
    "* Partimos de una configuración inicial en la que agentes de dos tipos se distribuyen aleatoriamente por una rejilla en la que algunas posiciones quedarán vacías.\n",
    "* Se define un umbral de conformidad $t$, si la conformidad de un agente está por debajo del umbral su valor de utilidad asociado $u$, será $u = 0$ y $1$ en caso contrario.\n",
    "* El valor de $u$ se calcula en cada iteración para todos los agentes considerando el tipo de los agentes de su vecindad de Moore.\n",
    "* En cada iteración, se moverán todos los agentes con $u = 0$ eligiendo posiciones vacías más cercanas, estimando el incremento de u y aceptando la nueva posición cuando $u_{new} - u_{old} = 1$.\n",
    "\n",
    "**Mi opinión es que este algoritmo no cumple las condiciones *detailed balance* ya que no explora cambios en agentes $u = 1$ ni acepta estados que mantienen el valor $u = 0$. Así, creo yo, el muestreo no genera opciones con el mismo observable macroscópico con igual probabilidad haciendo imposible hablar del principio de equi-probabilidad y de la distribución de Boltzmann.**\n",
    "\n",
    "He implementado el algoritmo como lo había entendido más abajo. Sí parece que reproduce la segregación.\n",
    "\n",
    "Entonces, en principio, son modelos distintos que tienen un comportamiento físico similar pero que presentan estas diferencias mencionadas. En cualquier caso, supongo que la equivalencia aún podría\n",
    "establecerse si pudiéramos adaptar la forma del modelo de Schelling para que admitiese el formalismo de la mecánica estadística.\n",
    "La cuestión es saber si es posible escribir el algoritmo de Schelling en forma de un Monte Carlo Metropolis y, de esa manera, la condición detailed balance nos posibilita la definición de una distribución de Boltzmann. Es decir, tendríamos que saber si podemos, con esas condiciones, establecer un principio de equiprobabilidad de los estados para un valor del observable macroscópico adecuado.\n",
    "A continuación, deberíamos encontrar una magnitud equivalente a la temperatura estadística. Esta, por lo que yo he entendido, se deduce suponiendo la independencia estadística del número de estados de un subsistema\n",
    "\n",
    "$$\\Omega(E_1|E) = \\Omega_1 (E_1 ) \\Omega_2 (E – E_1)$$\n",
    "\n",
    "Con todo lo anterior, solo faltaría definir una magnitud similar a la magnetización global, ya que la definición que tenemos en el modelo de Ising no es aplicable al modelo de Schelling, ya que el número de elementos de las dos clases no cambia."
   ]
  },
  {
   "cell_type": "markdown",
   "metadata": {},
   "source": [
    "### Detailed balance\n",
    "\n",
    "Queremos que la probabilidad de que un estado $x$ aparezca en la cadena de Markov sea la misma que nos daría distribución de la que queremos muestrear\n",
    "\n",
    "$$\\Pi^{MC}(x) = \\Pi(x)$$\n",
    "\n",
    "*Esto se consigue en el equilibrio termodinámico, cuando la cadena alcanza la distribución estacionaria.*\n",
    "\n",
    "Una condición suficiente para que eso ocurra, es decir, para que todos los estados estén distribuidos de acuerdo a la probabilidad buscada, es que se cumpla la condición *detailed balance*\n",
    "\n",
    "$$\\Pi(x)\\mathcal{T}(x\\rightarrow x')  = \\Pi(x')\\mathcal{T}(x'\\rightarrow x)$$\n",
    "\n",
    "Esta condición también se llama de micro-reversibilidad, la probabilidad de estar en un estado $x$ y que ocurra una transición al estado $x'$ es la misma que la de estar en $x'$ y pasar al estado $x$."
   ]
  },
  {
   "cell_type": "markdown",
   "metadata": {},
   "source": [
    "### Postulado fundamental de la física estadística del equilibrio\n",
    "\n",
    "Todas las configuraciones con una energía dada tienen igual probabilidad. El resto tienen probabilidad 0."
   ]
  },
  {
   "cell_type": "markdown",
   "metadata": {},
   "source": [
    "## Algoritmo"
   ]
  },
  {
   "cell_type": "code",
   "execution_count": 12,
   "metadata": {},
   "outputs": [],
   "source": [
    "import numpy as np\n",
    "from scipy.spatial import cKDTree\n",
    "import matplotlib.pyplot as plt\n",
    "\n",
    "\n",
    "def plot_states(sli, sl):\n",
    "    axes_initial = plt.subplot(211)\n",
    "    plt.imshow(sli)\n",
    "    axes_end = plt.subplot(212)\n",
    "    plt.imshow(sl)\n",
    "    axes_initial.set_ylabel('Initial')\n",
    "    axes_end.set_ylabel('End')\n",
    "    plt.show()\n",
    "\n",
    "\n",
    "class SchellingSimulation(object):\n",
    "    \"\"\"\n",
    "    Class which implements the Schelling's model.\n",
    "    \"\"\"\n",
    "\n",
    "    def __init__(self, L, occupation, T, num_iterations, mode='random'):\n",
    "        \"\"\"\n",
    "        Parameters\n",
    "        ----------\n",
    "        L : float\n",
    "            lattice side size\n",
    "        occupation : float\n",
    "            percentage of occupation\n",
    "        T : float\n",
    "            Tolerance\n",
    "        num_iterations : int\n",
    "            number of iterations\n",
    "        mode : string\n",
    "            Specifies how to looking for holes, randomly or nearby.\n",
    "        \"\"\"\n",
    "        # Set internal parameters\n",
    "        self.L = L\n",
    "        self.occupation = occupation\n",
    "        self.T = T\n",
    "        self.num_iterations = num_iterations\n",
    "        self.mode = mode\n",
    "        self.initial_sl = np.random.choice([1, 0, -1],\n",
    "                                           (self.L, self.L),\n",
    "                                           p=[self.occupation / 2.0, 1.0 - self.occupation, self.occupation / 2.0])\n",
    "\n",
    "    def compute_utility(self, i, j, sl, value):\n",
    "        \"\"\"\n",
    "        Returns the utility value.\n",
    "        :param i: int, file index\n",
    "        :param j: int, column index\n",
    "        :param L: int, length of lattice side\n",
    "        :param sl: matrix_like, Schelling lattice\n",
    "        :param value: float, values 1 or -1\n",
    "        :return: int, 1 or 0\n",
    "        \"\"\"\n",
    "        sl_pad = np.pad(sl, (1, 1), 'wrap')\n",
    "        moore_nb = sl_pad[i:i + 3, j:j + 3]\n",
    "        masc = np.ones((3, 3))\n",
    "        masc[1, 1] = 0.0\n",
    "        moore_nb = np.multiply(moore_nb, masc)\n",
    "        s = np.abs(np.sum(moore_nb[np.where(moore_nb == value)])) / np.sum(np.abs(moore_nb)) - self.T\n",
    "        return np.heaviside(s, 1)\n",
    "\n",
    "    def get_sl_utility(self, sl):\n",
    "        m = np.zeros((self.L, self.L))\n",
    "        for i, j in zip(np.where(sl != 0.0)[0], np.where(sl != 0.0)[1]):\n",
    "            m[i, j] = self.compute_utility(i, j, sl, sl[i, j])\n",
    "        return m\n",
    "\n",
    "    def update_schelling_lattice(self, sl_input):\n",
    "        sl = sl_input.copy()\n",
    "        holes = list(zip(np.where(sl == 0.0)[0], np.where(sl == 0.0)[1]))\n",
    "        tree_holes = cKDTree(holes)\n",
    "        for i, j in zip(np.where(sl != 0.0)[0], np.where(sl != 0.0)[1]):\n",
    "            if self.compute_utility(i, j, sl, sl[i, j]) == 0:\n",
    "                distance, idx = tree_holes.query([i, j], k=1)\n",
    "                if self.compute_utility(holes[idx][0], holes[idx][1], sl, sl[i, j]) == 1.0:\n",
    "                    sl[holes[idx][0], holes[idx][1]] = sl[i, j]\n",
    "                    sl[i, j] = 0.0\n",
    "        return sl\n",
    "\n",
    "    def update_schelling_lattice_random(self, sl_input):\n",
    "        sl = sl_input.copy()\n",
    "        for i, j in zip(np.where(sl != 0.0)[0], np.where(sl != 0.0)[1]):\n",
    "            holes = list(zip(np.where(sl == 0.0)[0], np.where(sl == 0.0)[1]))\n",
    "            hole = holes[np.random.choice(len(holes))]\n",
    "            if self.compute_utility(i, j, sl, sl[i, j]) == 0:\n",
    "                if self.compute_utility(hole[0], hole[1], sl, sl[i, j]) == 1.0:\n",
    "                    sl[hole[0], hole[1]] = sl[i, j]\n",
    "                    sl[i, j] = 0.0\n",
    "        return sl\n",
    "\n",
    "    def simulate_shelling_model(self):\n",
    "        sl = self.initial_sl\n",
    "        if self.mode == 'random':\n",
    "            update_function = self.update_schelling_lattice_random\n",
    "        else:\n",
    "            update_function = self.update_schelling_lattice\n",
    "        for i in range(self.num_iterations):\n",
    "            sl = update_function(sl)\n",
    "        return sl"
   ]
  },
  {
   "cell_type": "code",
   "execution_count": 5,
   "metadata": {},
   "outputs": [],
   "source": [
    "c = SchellingSimulation(30, 0.8, 0.3, 2000) \n",
    "sl = c.initial_sl\n",
    "sl_final = c.simulate_shelling_model() "
   ]
  },
  {
   "cell_type": "code",
   "execution_count": 14,
   "metadata": {
    "scrolled": true
   },
   "outputs": [
    {
     "data": {
      "image/png": "[encoded data removed]",
      "text/plain": [
       "<Figure size 432x288 with 2 Axes>"
      ]
     },
     "metadata": {
      "needs_background": "light"
     },
     "output_type": "display_data"
    }
   ],
   "source": [
    "plot_states(c.initial_sl, sl_final) "
   ]
  },
  {
   "cell_type": "code",
   "execution_count": null,
   "metadata": {},
   "outputs": [],
   "source": []
  },
  {
   "cell_type": "code",
   "execution_count": null,
   "metadata": {},
   "outputs": [],
   "source": []
  }
 ],
 "metadata": {
  "kernelspec": {
   "display_name": "Python 3",
   "language": "python",
   "name": "python3"
  },
  "language_info": {
   "codemirror_mode": {
    "name": "ipython",
    "version": 3
   },
   "file_extension": ".py",
   "mimetype": "text/x-python",
   "name": "python",
   "nbconvert_exporter": "python",
   "pygments_lexer": "ipython3",
   "version": "3.7.3"
  }
 },
 "nbformat": 4,
 "nbformat_minor": 2
}
